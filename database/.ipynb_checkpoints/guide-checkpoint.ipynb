{
 "cells": [
  {
   "cell_type": "code",
   "execution_count": 1,
   "id": "4e4c18f6-4a2f-4170-9848-e60fae8d6818",
   "metadata": {},
   "outputs": [],
   "source": [
    "from peewee import *\n",
    "from datetime import date"
   ]
  },
  {
   "cell_type": "code",
   "execution_count": 2,
   "id": "553725d3-2a5b-4f28-8201-9cdffdd06ac3",
   "metadata": {},
   "outputs": [],
   "source": [
    "db = SqliteDatabase('people.db')"
   ]
  },
  {
   "cell_type": "code",
   "execution_count": 3,
   "id": "a3cf4731-9da2-4b35-a47d-e87a5811e054",
   "metadata": {},
   "outputs": [],
   "source": [
    "class Person(Model):\n",
    "    name = CharField()\n",
    "    birthday = DateField()\n",
    "\n",
    "    class Meta:\n",
    "        database = db"
   ]
  },
  {
   "cell_type": "code",
   "execution_count": 4,
   "id": "6a1b14b8-a971-4dba-8858-d6635e7a90b7",
   "metadata": {},
   "outputs": [],
   "source": [
    "class Pet(Model):\n",
    "    owner = ForeignKeyField(Person, backref=\"pets\")\n",
    "    name = CharField()\n",
    "    animal_type = CharField()\n",
    "\n",
    "    class Meta:\n",
    "        database = db"
   ]
  },
  {
   "cell_type": "code",
   "execution_count": 5,
   "id": "e07f194e-bae3-480a-a520-c2961582fb97",
   "metadata": {},
   "outputs": [
    {
     "data": {
      "text/plain": [
       "True"
      ]
     },
     "execution_count": 5,
     "metadata": {},
     "output_type": "execute_result"
    }
   ],
   "source": [
    "db.connect()"
   ]
  },
  {
   "cell_type": "code",
   "execution_count": 6,
   "id": "090b9ff2-8832-47c1-a808-699b2c368350",
   "metadata": {},
   "outputs": [],
   "source": [
    "db.create_tables([Person, Pet])"
   ]
  },
  {
   "cell_type": "code",
   "execution_count": 7,
   "id": "03289320-21a3-418e-a474-599b416d44a8",
   "metadata": {},
   "outputs": [
    {
     "data": {
      "text/plain": [
       "1"
      ]
     },
     "execution_count": 7,
     "metadata": {},
     "output_type": "execute_result"
    }
   ],
   "source": [
    "uncle_bob = Person(name=\"Bob\", birthday=date(1960, 1, 15))\n",
    "uncle_bob.save()"
   ]
  },
  {
   "cell_type": "code",
   "execution_count": 8,
   "id": "4835c1ea",
   "metadata": {},
   "outputs": [],
   "source": [
    "grandma = Person.create(name='Grandma', birthday=date(1935, 3, 1))\n",
    "herb = Person.create(name='Herb', birthday=date(1950, 5, 5))"
   ]
  },
  {
   "cell_type": "code",
   "execution_count": 9,
   "id": "0237a963",
   "metadata": {},
   "outputs": [
    {
     "data": {
      "text/plain": [
       "1"
      ]
     },
     "execution_count": 9,
     "metadata": {},
     "output_type": "execute_result"
    }
   ],
   "source": [
    "grandma.name = 'Grandma L.'\n",
    "grandma.save()"
   ]
  },
  {
   "cell_type": "code",
   "execution_count": 10,
   "id": "91de6ba5",
   "metadata": {},
   "outputs": [],
   "source": [
    "bob_kitty = Pet.create(owner=uncle_bob, name='Kitty', animal_type='cat')\n",
    "herb_fido = Pet.create(owner=herb, name='Fido', animal_type='dog')\n",
    "herb_mittens = Pet.create(owner=herb, name='Mittens', animal_type='cat')\n",
    "herb_mittens_jr = Pet.create(owner=herb, name='Mittens Jr', animal_type='cat')"
   ]
  },
  {
   "cell_type": "code",
   "execution_count": 11,
   "id": "b9e19d66",
   "metadata": {},
   "outputs": [
    {
     "data": {
      "text/plain": [
       "1"
      ]
     },
     "execution_count": 11,
     "metadata": {},
     "output_type": "execute_result"
    }
   ],
   "source": [
    "herb_mittens.delete_instance()"
   ]
  },
  {
   "cell_type": "code",
   "execution_count": 12,
   "id": "3987321c",
   "metadata": {},
   "outputs": [
    {
     "data": {
      "text/plain": [
       "1"
      ]
     },
     "execution_count": 12,
     "metadata": {},
     "output_type": "execute_result"
    }
   ],
   "source": [
    "herb_fido.owner = uncle_bob\n",
    "herb_fido.save()\n"
   ]
  },
  {
   "cell_type": "code",
   "execution_count": 13,
   "id": "827b888c",
   "metadata": {},
   "outputs": [],
   "source": [
    "grandma = Person.select().where(Person.name == \"Grandma L.\").get()"
   ]
  },
  {
   "cell_type": "code",
   "execution_count": 14,
   "id": "bc3d50be",
   "metadata": {},
   "outputs": [
    {
     "name": "stdout",
     "output_type": "stream",
     "text": [
      "2\n"
     ]
    }
   ],
   "source": [
    "print(grandma)"
   ]
  },
  {
   "cell_type": "code",
   "execution_count": 15,
   "id": "20ae8d6f",
   "metadata": {},
   "outputs": [
    {
     "name": "stdout",
     "output_type": "stream",
     "text": [
      "Bob\n",
      "Grandma L.\n",
      "Herb\n",
      "Bob\n",
      "Grandma L.\n",
      "Herb\n"
     ]
    }
   ],
   "source": [
    "for person in Person.select():\n",
    "    print(person.name)"
   ]
  },
  {
   "cell_type": "code",
   "execution_count": 16,
   "id": "bce79b96",
   "metadata": {},
   "outputs": [
    {
     "name": "stdout",
     "output_type": "stream",
     "text": [
      "Kitty Bob\n",
      "Mittens Jr Herb\n",
      "Kitty Bob\n",
      "Mittens Jr Herb\n"
     ]
    }
   ],
   "source": [
    "query = Pet.select().where(Pet.animal_type == 'cat')\n",
    "for pet in query:\n",
    "    print(pet.name, pet.owner.name)"
   ]
  },
  {
   "cell_type": "code",
   "execution_count": 17,
   "id": "3b706a92",
   "metadata": {},
   "outputs": [
    {
     "name": "stdout",
     "output_type": "stream",
     "text": [
      "Kitty Bob\n",
      "Mittens Jr Herb\n",
      "Kitty Bob\n",
      "Mittens Jr Herb\n"
     ]
    }
   ],
   "source": [
    "query = Pet.select(Pet, Person).join(Person).where(Pet.animal_type == 'cat')\n",
    "for pet in query:\n",
    "    print(pet.name, pet.owner.name)"
   ]
  },
  {
   "cell_type": "code",
   "execution_count": 18,
   "id": "9dd5efcd",
   "metadata": {},
   "outputs": [
    {
     "name": "stdout",
     "output_type": "stream",
     "text": [
      "5\n",
      "6\n"
     ]
    }
   ],
   "source": [
    "for pet in Pet.select().where(Pet.owner == uncle_bob):\n",
    "    print(pet)"
   ]
  },
  {
   "cell_type": "code",
   "execution_count": 19,
   "id": "533f418f",
   "metadata": {},
   "outputs": [
    {
     "name": "stdout",
     "output_type": "stream",
     "text": [
      "Fido\n",
      "Kitty\n"
     ]
    }
   ],
   "source": [
    "for pet in Pet.select().where(Pet.owner == uncle_bob).order_by(Pet.name):\n",
    "    print(pet.name)"
   ]
  },
  {
   "cell_type": "code",
   "execution_count": 20,
   "id": "3039cf28",
   "metadata": {},
   "outputs": [
    {
     "name": "stdout",
     "output_type": "stream",
     "text": [
      "Bob 1960-01-15\n",
      "Bob 1960-01-15\n",
      "Herb 1950-05-05\n",
      "Herb 1950-05-05\n",
      "Grandma L. 1935-03-01\n",
      "Grandma L. 1935-03-01\n"
     ]
    }
   ],
   "source": [
    "for person in Person.select().order_by(Person.birthday.desc()):\n",
    "    print(person.name, person.birthday)"
   ]
  },
  {
   "cell_type": "code",
   "execution_count": 21,
   "id": "dd5d51aa",
   "metadata": {},
   "outputs": [
    {
     "name": "stdout",
     "output_type": "stream",
     "text": [
      "Bob 1960-01-15\n",
      "Grandma L. 1935-03-01\n",
      "Bob 1960-01-15\n",
      "Grandma L. 1935-03-01\n"
     ]
    }
   ],
   "source": [
    "d1940 = date(1940, 1, 1)\n",
    "d1960 = date(1960, 1, 1)\n",
    "query = Person.select().where((Person.birthday < d1940)|(Person.birthday > d1960))\n",
    "for person in query:\n",
    "    print(person.name, person.birthday)"
   ]
  },
  {
   "cell_type": "code",
   "execution_count": 22,
   "id": "2f68312e",
   "metadata": {},
   "outputs": [
    {
     "name": "stdout",
     "output_type": "stream",
     "text": [
      "Herb 1950-05-05\n",
      "Herb 1950-05-05\n"
     ]
    }
   ],
   "source": [
    "query = Person.select().where(Person.birthday.between(d1940, d1960))\n",
    "for person in query:\n",
    "    print(person.name, person.birthday)"
   ]
  },
  {
   "cell_type": "code",
   "execution_count": 23,
   "id": "2ea031c7",
   "metadata": {},
   "outputs": [
    {
     "name": "stdout",
     "output_type": "stream",
     "text": [
      "Bob 2 pets\n",
      "Grandma L. 0 pets\n",
      "Herb 1 pets\n",
      "Bob 2 pets\n",
      "Grandma L. 0 pets\n",
      "Herb 1 pets\n"
     ]
    }
   ],
   "source": [
    "for person in Person.select():\n",
    "    print(person.name, person.pets.count(), 'pets')"
   ]
  },
  {
   "cell_type": "code",
   "execution_count": 24,
   "id": "da93fb87",
   "metadata": {},
   "outputs": [
    {
     "name": "stdout",
     "output_type": "stream",
     "text": [
      "Bob 2 pets\n",
      "Bob 2 pets\n",
      "Grandma L. 0 pets\n",
      "Grandma L. 0 pets\n",
      "Herb 1 pets\n",
      "Herb 1 pets\n"
     ]
    }
   ],
   "source": [
    "query = Person.select(Person, fn.COUNT(Pet.id).alias('pet_count')).join(Pet, JOIN.LEFT_OUTER).group_by(Person).order_by(Person.name)\n",
    "for person in query:\n",
    "    print(person.name, person.pets.count(), 'pets')"
   ]
  },
  {
   "cell_type": "code",
   "execution_count": 25,
   "id": "ebbae5c0",
   "metadata": {},
   "outputs": [
    {
     "name": "stdout",
     "output_type": "stream",
     "text": [
      "Bob Fido\n",
      "Bob Fido\n",
      "Bob Kitty\n",
      "Bob Kitty\n",
      "Grandma L. no pets\n",
      "Grandma L. no pets\n",
      "Herb Mittens Jr\n",
      "Herb Mittens Jr\n"
     ]
    }
   ],
   "source": [
    "query = Person.select(Person, Pet).join(Pet, JOIN.LEFT_OUTER).order_by(Person.name, Pet.name)\n",
    "for p in query:\n",
    "    if hasattr(p, 'pet'):\n",
    "        print(p.name, p.pet.name)\n",
    "    else:\n",
    "        print(p.name, 'no pets')"
   ]
  },
  {
   "cell_type": "code",
   "execution_count": 26,
   "id": "a33e88d5",
   "metadata": {},
   "outputs": [
    {
     "name": "stdout",
     "output_type": "stream",
     "text": [
      "Bob\n",
      " * Kitty\n",
      " * Fido\n",
      "Bob\n",
      " * Kitty\n",
      " * Fido\n",
      "Grandma L.\n",
      "Grandma L.\n",
      "Herb\n",
      " * Mittens Jr\n",
      "Herb\n",
      " * Mittens Jr\n"
     ]
    }
   ],
   "source": [
    "query = Person.select().order_by(Person.name).prefetch(Pet)\n",
    "for p  in query:\n",
    "    print(p.name)\n",
    "    for pet in p.pets:\n",
    "        print(\" *\", pet.name)"
   ]
  },
  {
   "cell_type": "code",
   "execution_count": 27,
   "id": "203b55f7",
   "metadata": {},
   "outputs": [
    {
     "name": "stdout",
     "output_type": "stream",
     "text": [
      "Grandma L.\n",
      "Grandma L.\n"
     ]
    }
   ],
   "source": [
    "expression = fn.Lower(fn.Substr(Person.name, 1, 1)) == 'g'\n",
    "for person in Person.select().where(expression):\n",
    "    print(person.name)"
   ]
  },
  {
   "cell_type": "code",
   "execution_count": 28,
   "id": "1f1b4421",
   "metadata": {},
   "outputs": [
    {
     "name": "stdout",
     "output_type": "stream",
     "text": [
      "Bob\n",
      "Grandma L.\n",
      "Herb\n",
      "Bob\n",
      "Grandma L.\n",
      "Herb\n"
     ]
    }
   ],
   "source": [
    "for person in Person.select():\n",
    "    print(person.name)"
   ]
  },
  {
   "cell_type": "code",
   "execution_count": null,
   "id": "94e2c6ad",
   "metadata": {},
   "outputs": [],
   "source": []
  },
  {
   "cell_type": "code",
   "execution_count": null,
   "id": "bafc35fd-d6b0-4caf-b056-2f6c8ee96a9c",
   "metadata": {},
   "outputs": [],
   "source": []
  }
 ],
 "metadata": {
  "kernelspec": {
   "display_name": "Python 3 (ipykernel)",
   "language": "python",
   "name": "python3"
  },
  "language_info": {
   "codemirror_mode": {
    "name": "ipython",
    "version": 3
   },
   "file_extension": ".py",
   "mimetype": "text/x-python",
   "name": "python",
   "nbconvert_exporter": "python",
   "pygments_lexer": "ipython3",
   "version": "3.13.2"
  }
 },
 "nbformat": 4,
 "nbformat_minor": 5
}
